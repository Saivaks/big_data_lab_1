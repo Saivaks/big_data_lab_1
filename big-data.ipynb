{
 "cells": [
  {
   "cell_type": "code",
   "execution_count": 1,
   "metadata": {
    "_cell_guid": "b1076dfc-b9ad-4769-8c92-a6c4dae69d19",
    "_uuid": "8f2839f25d086af736a60e9eeb907d3b93b6e0e5",
    "execution": {
     "iopub.execute_input": "2023-04-22T23:18:05.856287Z",
     "iopub.status.busy": "2023-04-22T23:18:05.855020Z",
     "iopub.status.idle": "2023-04-22T23:18:06.666458Z",
     "shell.execute_reply": "2023-04-22T23:18:06.665296Z",
     "shell.execute_reply.started": "2023-04-22T23:18:05.856237Z"
    }
   },
   "outputs": [],
   "source": [
    "\n",
    "from sklearn.feature_extraction.text import TfidfVectorizer\n",
    "from sklearn.linear_model import LogisticRegression\n",
    "from sklearn.model_selection import cross_val_score\n",
    "from scipy.sparse import hstack\n",
    "\n",
    "import numpy as np # linear algebra\n",
    "import pandas as pd # data processing, CSV file I/O (e.g. pd.read_csv)\n",
    "\n",
    "# Input data files are available in the read-only \"../input/\" directory\n",
    "# For example, running this (by clicking run or pressing Shift+Enter) will list all files under the input directory\n",
    "\n",
    "import os\n",
    "\n",
    "# You can write up to 20GB to the current directory (/kaggle/working/) that gets preserved as output when you create a version using \"Save & Run All\" \n",
    "# You can also write temporary files to /kaggle/temp/, but they won't be saved outside of the current session"
   ]
  },
  {
   "cell_type": "code",
   "execution_count": 2,
   "metadata": {
    "execution": {
     "iopub.execute_input": "2023-04-22T23:19:04.418420Z",
     "iopub.status.busy": "2023-04-22T23:19:04.417471Z",
     "iopub.status.idle": "2023-04-22T23:19:04.482205Z",
     "shell.execute_reply": "2023-04-22T23:19:04.481173Z",
     "shell.execute_reply.started": "2023-04-22T23:19:04.418363Z"
    }
   },
   "outputs": [],
   "source": [
    "\n",
    "path_data = r'S:\\andrey\\мага\\sem_2\\big_data\\big_data_lab_1\\data'\n",
    "train = pd.read_csv(os.path.join(path_data, 'BBC News Train.csv'))\n",
    "test = pd.read_csv(os.path.join(path_data, 'BBC News Test.csv'))\n"
   ]
  },
  {
   "cell_type": "code",
   "execution_count": 3,
   "metadata": {
    "execution": {
     "iopub.execute_input": "2023-04-22T23:19:41.142880Z",
     "iopub.status.busy": "2023-04-22T23:19:41.142387Z",
     "iopub.status.idle": "2023-04-22T23:19:41.162091Z",
     "shell.execute_reply": "2023-04-22T23:19:41.160802Z",
     "shell.execute_reply.started": "2023-04-22T23:19:41.142836Z"
    }
   },
   "outputs": [
    {
     "data": {
      "text/plain": [
       "array(['business', 'tech', 'politics', 'sport', 'entertainment'],\n",
       "      dtype=object)"
      ]
     },
     "execution_count": 3,
     "metadata": {},
     "output_type": "execute_result"
    }
   ],
   "source": [
    "train['Category'].unique()"
   ]
  },
  {
   "cell_type": "code",
   "execution_count": 4,
   "metadata": {
    "execution": {
     "iopub.execute_input": "2023-04-23T00:31:02.112320Z",
     "iopub.status.busy": "2023-04-23T00:31:02.111291Z",
     "iopub.status.idle": "2023-04-23T00:31:02.118170Z",
     "shell.execute_reply": "2023-04-23T00:31:02.116758Z",
     "shell.execute_reply.started": "2023-04-23T00:31:02.112276Z"
    }
   },
   "outputs": [],
   "source": [
    "class_names = {0:'business', 1:'tech', 2:'politics', 3:'sport', 4:'entertainment'}"
   ]
  },
  {
   "cell_type": "code",
   "execution_count": 5,
   "metadata": {
    "execution": {
     "iopub.execute_input": "2023-04-22T23:22:02.967113Z",
     "iopub.status.busy": "2023-04-22T23:22:02.966606Z",
     "iopub.status.idle": "2023-04-22T23:22:02.975812Z",
     "shell.execute_reply": "2023-04-22T23:22:02.974652Z",
     "shell.execute_reply.started": "2023-04-22T23:22:02.967068Z"
    }
   },
   "outputs": [],
   "source": [
    "\n",
    "train_text = train['Text']\n",
    "test_text = test['Text']\n",
    "all_text = pd.concat([train_text, test_text])"
   ]
  },
  {
   "cell_type": "code",
   "execution_count": 6,
   "metadata": {
    "execution": {
     "iopub.execute_input": "2023-04-22T23:24:23.542409Z",
     "iopub.status.busy": "2023-04-22T23:24:23.541714Z",
     "iopub.status.idle": "2023-04-22T23:24:24.467176Z",
     "shell.execute_reply": "2023-04-22T23:24:24.466007Z",
     "shell.execute_reply.started": "2023-04-22T23:24:23.542340Z"
    }
   },
   "outputs": [
    {
     "data": {
      "text/plain": [
       "TfidfVectorizer(max_features=10000, stop_words='english',\n",
       "                strip_accents='unicode', sublinear_tf=True)"
      ]
     },
     "execution_count": 6,
     "metadata": {},
     "output_type": "execute_result"
    }
   ],
   "source": [
    "\n",
    "word_vectorizer = TfidfVectorizer(\n",
    "    sublinear_tf=True,\n",
    "    strip_accents='unicode',\n",
    "    analyzer='word',\n",
    "    #token_pattern=r\\w{1,},\n",
    "    stop_words='english',\n",
    "    ngram_range=(1, 1),\n",
    "    max_features=10000)\n",
    "word_vectorizer.fit(all_text)"
   ]
  },
  {
   "cell_type": "code",
   "execution_count": 7,
   "metadata": {
    "execution": {
     "iopub.execute_input": "2023-04-22T23:25:54.700362Z",
     "iopub.status.busy": "2023-04-22T23:25:54.699811Z",
     "iopub.status.idle": "2023-04-22T23:25:56.000670Z",
     "shell.execute_reply": "2023-04-22T23:25:55.999506Z",
     "shell.execute_reply.started": "2023-04-22T23:25:54.700317Z"
    }
   },
   "outputs": [],
   "source": [
    "train_word_features = word_vectorizer.transform(train_text)\n",
    "test_word_features = word_vectorizer.transform(test_text)\n"
   ]
  },
  {
   "cell_type": "code",
   "execution_count": 8,
   "metadata": {
    "execution": {
     "iopub.execute_input": "2023-04-22T23:26:23.704120Z",
     "iopub.status.busy": "2023-04-22T23:26:23.703114Z",
     "iopub.status.idle": "2023-04-22T23:26:43.932246Z",
     "shell.execute_reply": "2023-04-22T23:26:43.931060Z",
     "shell.execute_reply.started": "2023-04-22T23:26:23.704081Z"
    }
   },
   "outputs": [
    {
     "data": {
      "text/plain": [
       "TfidfVectorizer(analyzer='char', max_features=50000, ngram_range=(2, 6),\n",
       "                strip_accents='unicode', sublinear_tf=True)"
      ]
     },
     "execution_count": 8,
     "metadata": {},
     "output_type": "execute_result"
    }
   ],
   "source": [
    "\n",
    "char_vectorizer = TfidfVectorizer(\n",
    "    sublinear_tf=True,\n",
    "    strip_accents='unicode',\n",
    "    analyzer='char',\n",
    "    #stop_words='english',\n",
    "    ngram_range=(2, 6),\n",
    "    max_features=50000)\n",
    "char_vectorizer.fit(all_text)"
   ]
  },
  {
   "cell_type": "code",
   "execution_count": 9,
   "metadata": {
    "execution": {
     "iopub.execute_input": "2023-04-22T23:26:49.119972Z",
     "iopub.status.busy": "2023-04-22T23:26:49.119374Z",
     "iopub.status.idle": "2023-04-22T23:27:05.923960Z",
     "shell.execute_reply": "2023-04-22T23:27:05.922816Z",
     "shell.execute_reply.started": "2023-04-22T23:26:49.119933Z"
    }
   },
   "outputs": [],
   "source": [
    "train_char_features = char_vectorizer.transform(train_text)\n",
    "test_char_features = char_vectorizer.transform(test_text)"
   ]
  },
  {
   "cell_type": "code",
   "execution_count": 10,
   "metadata": {
    "execution": {
     "iopub.execute_input": "2023-04-22T23:28:33.001355Z",
     "iopub.status.busy": "2023-04-22T23:28:33.000642Z",
     "iopub.status.idle": "2023-04-22T23:28:33.244915Z",
     "shell.execute_reply": "2023-04-22T23:28:33.243717Z",
     "shell.execute_reply.started": "2023-04-22T23:28:33.001308Z"
    }
   },
   "outputs": [],
   "source": [
    "train_features = hstack([train_char_features, train_word_features])\n",
    "test_features = hstack([test_char_features, test_word_features])"
   ]
  },
  {
   "cell_type": "code",
   "execution_count": 11,
   "metadata": {
    "execution": {
     "iopub.execute_input": "2023-04-23T00:39:04.609246Z",
     "iopub.status.busy": "2023-04-23T00:39:04.608805Z",
     "iopub.status.idle": "2023-04-23T00:39:09.590862Z",
     "shell.execute_reply": "2023-04-23T00:39:09.589821Z",
     "shell.execute_reply.started": "2023-04-23T00:39:04.609211Z"
    }
   },
   "outputs": [],
   "source": [
    "\n",
    "submission = pd.DataFrame.from_dict({'ArticleId': test['ArticleId']})\n",
    "train_target = train['Category']\n",
    "classifier = LogisticRegression(C=0.1, solver='sag')\n",
    "#cv_score = np.mean(cross_val_score(classifier, train_features, train_target, cv=3, scoring='roc_auc'))\n",
    "#scores.append(cv_score)\n",
    "#print('CV score for class {} is {}'.format(class_name, cv_score))\n",
    "classifier.fit(train_features, train_target)\n",
    "result_train = classifier.predict_proba(train_features)\n",
    "result = classifier.predict_proba(test_features)"
   ]
  },
  {
   "cell_type": "code",
   "execution_count": 12,
   "metadata": {
    "execution": {
     "iopub.execute_input": "2023-04-23T00:47:33.517279Z",
     "iopub.status.busy": "2023-04-23T00:47:33.516901Z",
     "iopub.status.idle": "2023-04-23T00:47:33.529914Z",
     "shell.execute_reply": "2023-04-23T00:47:33.529008Z",
     "shell.execute_reply.started": "2023-04-23T00:47:33.517246Z"
    }
   },
   "outputs": [],
   "source": [
    "submission = []\n",
    "for ind in range(len(result_train)):\n",
    "    submission.append(list(result_train[ind]).index(max(result_train[ind])))"
   ]
  },
  {
   "cell_type": "code",
   "execution_count": 13,
   "metadata": {
    "execution": {
     "iopub.execute_input": "2023-04-23T00:47:52.009481Z",
     "iopub.status.busy": "2023-04-23T00:47:52.008906Z",
     "iopub.status.idle": "2023-04-23T00:47:52.021046Z",
     "shell.execute_reply": "2023-04-23T00:47:52.019697Z",
     "shell.execute_reply.started": "2023-04-23T00:47:52.009435Z"
    }
   },
   "outputs": [],
   "source": [
    "some = list(train['Category'])\n",
    "for ind in range(len(some)):\n",
    "    some[ind] = list(filter(lambda x: class_names[x] == some[ind], class_names))[0]"
   ]
  },
  {
   "cell_type": "code",
   "execution_count": 16,
   "metadata": {
    "execution": {
     "iopub.execute_input": "2023-04-23T00:48:19.642902Z",
     "iopub.status.busy": "2023-04-23T00:48:19.642532Z",
     "iopub.status.idle": "2023-04-23T00:48:19.657428Z",
     "shell.execute_reply": "2023-04-23T00:48:19.656169Z",
     "shell.execute_reply.started": "2023-04-23T00:48:19.642870Z"
    }
   },
   "outputs": [
    {
     "data": {
      "text/plain": [
       "0.6369127516778523"
      ]
     },
     "execution_count": 16,
     "metadata": {},
     "output_type": "execute_result"
    }
   ],
   "source": [
    "import sklearn\n",
    "sklearn.metrics.precision_score(some, submission, average = 'micro')"
   ]
  },
  {
   "cell_type": "code",
   "execution_count": 17,
   "metadata": {
    "execution": {
     "iopub.execute_input": "2023-04-23T00:49:16.419464Z",
     "iopub.status.busy": "2023-04-23T00:49:16.418503Z",
     "iopub.status.idle": "2023-04-23T00:49:16.427496Z",
     "shell.execute_reply": "2023-04-23T00:49:16.426168Z",
     "shell.execute_reply.started": "2023-04-23T00:49:16.419409Z"
    }
   },
   "outputs": [],
   "source": [
    "submission_test = []\n",
    "for ind in range(len(result)):\n",
    "    submission_test.append(list(result[ind]).index(max(result[ind])))"
   ]
  },
  {
   "cell_type": "code",
   "execution_count": 23,
   "metadata": {
    "execution": {
     "iopub.execute_input": "2023-04-23T00:50:22.094391Z",
     "iopub.status.busy": "2023-04-23T00:50:22.093360Z",
     "iopub.status.idle": "2023-04-23T00:50:22.101880Z",
     "shell.execute_reply": "2023-04-23T00:50:22.100824Z",
     "shell.execute_reply.started": "2023-04-23T00:50:22.094324Z"
    }
   },
   "outputs": [],
   "source": [
    "some_test = []\n",
    "for ind in range(6,8):\n",
    "    #print('Текст:', test['Text'][ind], 'Категория:', class_names[submission_test[ind]])\n",
    "    some_test.append(class_names[submission_test[ind]])"
   ]
  },
  {
   "cell_type": "code",
   "execution_count": null,
   "metadata": {},
   "outputs": [],
   "source": []
  }
 ],
 "metadata": {
  "kernelspec": {
   "display_name": "Python 3 (ipykernel)",
   "language": "python",
   "name": "python3"
  },
  "language_info": {
   "codemirror_mode": {
    "name": "ipython",
    "version": 3
   },
   "file_extension": ".py",
   "mimetype": "text/x-python",
   "name": "python",
   "nbconvert_exporter": "python",
   "pygments_lexer": "ipython3",
   "version": "3.9.13"
  }
 },
 "nbformat": 4,
 "nbformat_minor": 4
}
